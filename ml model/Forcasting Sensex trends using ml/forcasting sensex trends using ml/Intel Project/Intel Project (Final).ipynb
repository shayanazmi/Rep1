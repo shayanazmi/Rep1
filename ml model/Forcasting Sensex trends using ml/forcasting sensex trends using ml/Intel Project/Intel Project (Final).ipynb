{
 "cells": [
  {
   "cell_type": "markdown",
   "id": "31b2b943-2c87-4ef1-a9dc-19c954180819",
   "metadata": {},
   "source": [
    "# Sensex Forecating using Supervised Machine Learning\n",
    "\n",
    "*A machine learning-based stock prediction model designed to classify short-term (5-day) movement of the Sensex index. The solution uses a range of technical indicators and price-based features as input. After extensive testing, feature engineering, and balancing techniques, the final model — a tuned and balanced XGBoost classifier — achieved 73% accuracy. The model demonstrates strong generalization and could serve as a foundational tool for algorithmic trading or market trend analysis.*"
   ]
  },
  {
   "cell_type": "markdown",
   "id": "423bcbfd-1a05-4edd-aae2-2ae53e70868d",
   "metadata": {},
   "source": [
    "## Data Preparation and Feature Engineering\n",
    "\n",
    "### What We Did:\n",
    "\n",
    "We began by loading and preparing the Sensex historical stock data. Instead of using raw values like price or volume directly, we engineered meaningful features that could help the model understand market behavior and patterns.\n",
    "\n",
    "### Challenge:\n",
    "\n",
    "Initially, we noticed that the model wasn’t learning effectively when fed raw price data. This led us to explore and experiment with several feature engineering techniques until we arrived at a combination that captured useful trends and volatility patterns."
   ]
  },
  {
   "cell_type": "code",
   "execution_count": 1,
   "id": "11595686-d145-4ca5-b467-82d67c7bacc6",
   "metadata": {},
   "outputs": [],
   "source": [
    "import pandas as pd"
   ]
  },
  {
   "cell_type": "code",
   "execution_count": 2,
   "id": "5e4f50a8-c483-439b-a45e-921d0d632d56",
   "metadata": {},
   "outputs": [],
   "source": [
    "df = pd.read_csv('SENSEX_01012018_31122024.csv')"
   ]
  },
  {
   "cell_type": "code",
   "execution_count": 3,
   "id": "60c18dfa-9687-4e92-9c91-2d26e0b38591",
   "metadata": {},
   "outputs": [
    {
     "data": {
      "text/html": [
       "<div>\n",
       "<style scoped>\n",
       "    .dataframe tbody tr th:only-of-type {\n",
       "        vertical-align: middle;\n",
       "    }\n",
       "\n",
       "    .dataframe tbody tr th {\n",
       "        vertical-align: top;\n",
       "    }\n",
       "\n",
       "    .dataframe thead th {\n",
       "        text-align: right;\n",
       "    }\n",
       "</style>\n",
       "<table border=\"1\" class=\"dataframe\">\n",
       "  <thead>\n",
       "    <tr style=\"text-align: right;\">\n",
       "      <th></th>\n",
       "      <th>Date</th>\n",
       "      <th>Open</th>\n",
       "      <th>High</th>\n",
       "      <th>Low</th>\n",
       "      <th>Close</th>\n",
       "    </tr>\n",
       "  </thead>\n",
       "  <tbody>\n",
       "    <tr>\n",
       "      <th>0</th>\n",
       "      <td>1-January-2018</td>\n",
       "      <td>34059.99</td>\n",
       "      <td>34101.13</td>\n",
       "      <td>33766.15</td>\n",
       "      <td>33812.75</td>\n",
       "    </tr>\n",
       "    <tr>\n",
       "      <th>1</th>\n",
       "      <td>2-January-2018</td>\n",
       "      <td>33913.55</td>\n",
       "      <td>33964.14</td>\n",
       "      <td>33703.37</td>\n",
       "      <td>33812.26</td>\n",
       "    </tr>\n",
       "    <tr>\n",
       "      <th>2</th>\n",
       "      <td>3-January-2018</td>\n",
       "      <td>33929.61</td>\n",
       "      <td>33998.37</td>\n",
       "      <td>33765.43</td>\n",
       "      <td>33793.38</td>\n",
       "    </tr>\n",
       "    <tr>\n",
       "      <th>3</th>\n",
       "      <td>4-January-2018</td>\n",
       "      <td>33912.49</td>\n",
       "      <td>33995.40</td>\n",
       "      <td>33802.13</td>\n",
       "      <td>33969.64</td>\n",
       "    </tr>\n",
       "    <tr>\n",
       "      <th>4</th>\n",
       "      <td>5-January-2018</td>\n",
       "      <td>34021.27</td>\n",
       "      <td>34188.85</td>\n",
       "      <td>34020.84</td>\n",
       "      <td>34153.85</td>\n",
       "    </tr>\n",
       "  </tbody>\n",
       "</table>\n",
       "</div>"
      ],
      "text/plain": [
       "             Date      Open      High       Low     Close\n",
       "0  1-January-2018  34059.99  34101.13  33766.15  33812.75\n",
       "1  2-January-2018  33913.55  33964.14  33703.37  33812.26\n",
       "2  3-January-2018  33929.61  33998.37  33765.43  33793.38\n",
       "3  4-January-2018  33912.49  33995.40  33802.13  33969.64\n",
       "4  5-January-2018  34021.27  34188.85  34020.84  34153.85"
      ]
     },
     "execution_count": 3,
     "metadata": {},
     "output_type": "execute_result"
    }
   ],
   "source": [
    "df.head()"
   ]
  },
  {
   "cell_type": "markdown",
   "id": "341dc536-76eb-45b9-9099-6ea9f87300ab",
   "metadata": {},
   "source": [
    "### Converting Dates into Date-Time Format"
   ]
  },
  {
   "cell_type": "code",
   "execution_count": 4,
   "id": "134ebe24-40e7-493a-994d-f16c1d09d936",
   "metadata": {},
   "outputs": [
    {
     "name": "stdout",
     "output_type": "stream",
     "text": [
      "        Date      Open      High       Low     Close\n",
      "0 2018-01-01  34059.99  34101.13  33766.15  33812.75\n",
      "1 2018-01-02  33913.55  33964.14  33703.37  33812.26\n",
      "2 2018-01-03  33929.61  33998.37  33765.43  33793.38\n",
      "3 2018-01-04  33912.49  33995.40  33802.13  33969.64\n",
      "4 2018-01-05  34021.27  34188.85  34020.84  34153.85\n",
      "Date     datetime64[ns]\n",
      "Open            float64\n",
      "High            float64\n",
      "Low             float64\n",
      "Close           float64\n",
      "dtype: object\n"
     ]
    }
   ],
   "source": [
    "df['Date'] = pd.to_datetime(df['Date'], format='%d-%B-%Y')\n",
    "df = df.sort_values('Date').reset_index(drop=True)\n",
    "print(df.head())\n",
    "print(df.dtypes)"
   ]
  },
  {
   "cell_type": "code",
   "execution_count": 5,
   "id": "61df5d0a-d0dc-4dfe-b68d-330a32bbe6e7",
   "metadata": {},
   "outputs": [
    {
     "data": {
      "text/html": [
       "<div>\n",
       "<style scoped>\n",
       "    .dataframe tbody tr th:only-of-type {\n",
       "        vertical-align: middle;\n",
       "    }\n",
       "\n",
       "    .dataframe tbody tr th {\n",
       "        vertical-align: top;\n",
       "    }\n",
       "\n",
       "    .dataframe thead th {\n",
       "        text-align: right;\n",
       "    }\n",
       "</style>\n",
       "<table border=\"1\" class=\"dataframe\">\n",
       "  <thead>\n",
       "    <tr style=\"text-align: right;\">\n",
       "      <th></th>\n",
       "      <th>Date</th>\n",
       "      <th>Open</th>\n",
       "      <th>High</th>\n",
       "      <th>Low</th>\n",
       "      <th>Close</th>\n",
       "    </tr>\n",
       "  </thead>\n",
       "  <tbody>\n",
       "    <tr>\n",
       "      <th>count</th>\n",
       "      <td>1734</td>\n",
       "      <td>1734.000000</td>\n",
       "      <td>1734.000000</td>\n",
       "      <td>1734.000000</td>\n",
       "      <td>1734.000000</td>\n",
       "    </tr>\n",
       "    <tr>\n",
       "      <th>mean</th>\n",
       "      <td>2021-07-02 23:32:35.709342720</td>\n",
       "      <td>52089.100692</td>\n",
       "      <td>52336.870265</td>\n",
       "      <td>51752.232030</td>\n",
       "      <td>52045.786476</td>\n",
       "    </tr>\n",
       "    <tr>\n",
       "      <th>min</th>\n",
       "      <td>2018-01-01 00:00:00</td>\n",
       "      <td>26499.810000</td>\n",
       "      <td>27462.870000</td>\n",
       "      <td>25638.900000</td>\n",
       "      <td>25981.240000</td>\n",
       "    </tr>\n",
       "    <tr>\n",
       "      <th>25%</th>\n",
       "      <td>2019-10-07 12:00:00</td>\n",
       "      <td>38016.942500</td>\n",
       "      <td>38209.872500</td>\n",
       "      <td>37742.305000</td>\n",
       "      <td>37938.017500</td>\n",
       "    </tr>\n",
       "    <tr>\n",
       "      <th>50%</th>\n",
       "      <td>2021-07-03 12:00:00</td>\n",
       "      <td>52541.320000</td>\n",
       "      <td>52788.290000</td>\n",
       "      <td>52244.415000</td>\n",
       "      <td>52493.325000</td>\n",
       "    </tr>\n",
       "    <tr>\n",
       "      <th>75%</th>\n",
       "      <td>2023-03-30 12:00:00</td>\n",
       "      <td>61649.512500</td>\n",
       "      <td>61910.485000</td>\n",
       "      <td>61330.827500</td>\n",
       "      <td>61712.610000</td>\n",
       "    </tr>\n",
       "    <tr>\n",
       "      <th>max</th>\n",
       "      <td>2024-12-31 00:00:00</td>\n",
       "      <td>85893.840000</td>\n",
       "      <td>85978.250000</td>\n",
       "      <td>85474.580000</td>\n",
       "      <td>85836.120000</td>\n",
       "    </tr>\n",
       "    <tr>\n",
       "      <th>std</th>\n",
       "      <td>NaN</td>\n",
       "      <td>14881.505412</td>\n",
       "      <td>14925.985248</td>\n",
       "      <td>14848.617935</td>\n",
       "      <td>14891.273857</td>\n",
       "    </tr>\n",
       "  </tbody>\n",
       "</table>\n",
       "</div>"
      ],
      "text/plain": [
       "                                Date          Open          High  \\\n",
       "count                           1734   1734.000000   1734.000000   \n",
       "mean   2021-07-02 23:32:35.709342720  52089.100692  52336.870265   \n",
       "min              2018-01-01 00:00:00  26499.810000  27462.870000   \n",
       "25%              2019-10-07 12:00:00  38016.942500  38209.872500   \n",
       "50%              2021-07-03 12:00:00  52541.320000  52788.290000   \n",
       "75%              2023-03-30 12:00:00  61649.512500  61910.485000   \n",
       "max              2024-12-31 00:00:00  85893.840000  85978.250000   \n",
       "std                              NaN  14881.505412  14925.985248   \n",
       "\n",
       "                Low         Close  \n",
       "count   1734.000000   1734.000000  \n",
       "mean   51752.232030  52045.786476  \n",
       "min    25638.900000  25981.240000  \n",
       "25%    37742.305000  37938.017500  \n",
       "50%    52244.415000  52493.325000  \n",
       "75%    61330.827500  61712.610000  \n",
       "max    85474.580000  85836.120000  \n",
       "std    14848.617935  14891.273857  "
      ]
     },
     "execution_count": 5,
     "metadata": {},
     "output_type": "execute_result"
    }
   ],
   "source": [
    "df. describe()"
   ]
  },
  {
   "cell_type": "markdown",
   "id": "0f254ccb-bdd7-4483-9efc-40daf0f58fc0",
   "metadata": {},
   "source": [
    "## Feature Engineering\n",
    "\n",
    "### Engineered Features:\n",
    "\n",
    "1. daily_return: The percentage change from the previous close.\n",
    "2. ma_5: 5-day moving average of closing prices.\n",
    "3. ma_10: 10-day moving average of closing prices.\n",
    "4. return_1d: Actual one-day return (difference in close price).\n",
    "5. volatility_5d: Rolling standard deviation over the past 5 days.\n",
    "6. range: Difference between high and low as a percentage of the close."
   ]
  },
  {
   "cell_type": "code",
   "execution_count": 6,
   "id": "5ecd2443-8edf-4854-9be9-5e96acad4fb8",
   "metadata": {},
   "outputs": [
    {
     "name": "stdout",
     "output_type": "stream",
     "text": [
      "           Date  daily_return       ma_5      ma_10  future_return_5d  \\\n",
      "1724 2024-12-17     -0.010150  81476.448  81483.206         -0.027410   \n",
      "1725 2024-12-18     -0.006001  81207.660  81405.793         -0.021323   \n",
      "1726 2024-12-19      0.002392  80793.278  81151.012         -0.006551   \n",
      "1727 2024-12-20     -0.016309  79974.972  80784.259          0.002647   \n",
      "1728 2024-12-23      0.000657  79333.292  80487.430         -0.005108   \n",
      "1729 2024-12-24     -0.002979  78890.976  80183.712               NaN   \n",
      "1730 2024-12-26     -0.001079  78549.032  79878.346               NaN   \n",
      "1731 2024-12-27      0.001163  78445.236  79619.257               NaN   \n",
      "1732 2024-12-30     -0.004952  78486.544  79230.758               NaN   \n",
      "1733 2024-12-31      0.002006  78406.312  78869.802               NaN   \n",
      "\n",
      "      return_1d  volatility_5d     range  \n",
      "1724  -0.003070     540.781009  0.012286  \n",
      "1725  -0.010150     787.583336  0.010140  \n",
      "1726  -0.006001    1180.504394  0.006277  \n",
      "1727   0.002392    1414.465377  0.021586  \n",
      "1728  -0.016309    1101.940336  0.009287  \n",
      "1729   0.000657     835.698940  0.006093  \n",
      "1730  -0.002979     423.326665  0.009229  \n",
      "1731  -0.001079     243.864784  0.005656  \n",
      "1732   0.001163     162.225968  0.012915  \n",
      "1733  -0.004952     218.510482  0.009548  \n"
     ]
    },
    {
     "name": "stderr",
     "output_type": "stream",
     "text": [
      "/opt/intel/oneapi/intelpython/lib/python3.9/site-packages/pandas/io/formats/format.py:1458: RuntimeWarning: invalid value encountered in greater\n",
      "  has_large_values = (abs_vals > 1e6).any()\n",
      "/opt/intel/oneapi/intelpython/lib/python3.9/site-packages/pandas/io/formats/format.py:1459: RuntimeWarning: invalid value encountered in less\n",
      "  has_small_values = ((abs_vals < 10 ** (-self.digits)) & (abs_vals > 0)).any()\n",
      "/opt/intel/oneapi/intelpython/lib/python3.9/site-packages/pandas/io/formats/format.py:1459: RuntimeWarning: invalid value encountered in greater\n",
      "  has_small_values = ((abs_vals < 10 ** (-self.digits)) & (abs_vals > 0)).any()\n"
     ]
    }
   ],
   "source": [
    "df['daily_return'] = (df['Close'] - df['Open']) / df['Open']\n",
    "\n",
    "df['ma_5'] = df['Close'].rolling(window=5).mean()\n",
    "df['ma_10'] = df['Close'].rolling(window=10).mean()\n",
    "\n",
    "df['future_return_5d'] = (df['Close'].shift(-5) - df['Close']) / df['Close']\n",
    "\n",
    "df['return_1d'] = df['daily_return'].shift(1)\n",
    "\n",
    "df['volatility_5d'] = df['Close'].rolling(window=5).std()\n",
    "\n",
    "df['range'] = (df['High'] - df['Low']) / df['Open']\n",
    "\n",
    "print(df[['Date', 'daily_return', 'ma_5', 'ma_10', 'future_return_5d', 'return_1d', 'volatility_5d', 'range']].tail(10))"
   ]
  },
  {
   "cell_type": "markdown",
   "id": "e5457053-4c42-4c39-8158-2365d487c383",
   "metadata": {},
   "source": [
    "## Label Creation\n",
    "\n",
    "### What We Did:\n",
    "\n",
    "To create the target variable, we calculated the 5-day forward return using the formula: python future_return_5d = (future_close_price - current_close_price) / current_close_price\n",
    "\n",
    "We then created a binary label:\n",
    "\n",
    "1 if the return was greater than or equal to 0.0005 (0.05%)\n",
    "0 otherwise\n",
    "\n",
    "### Challenge:\n",
    "\n",
    "The threshold for labeling had a huge impact on class distribution. Too high, and we had very few positives; too low, and the model became too sensitive. We settled on 0.05% after multiple experiments to ensure balanced labeling and practical market movement capture."
   ]
  },
  {
   "cell_type": "code",
   "execution_count": 7,
   "id": "304282c5-e162-41ac-9cd2-6b728d5352f5",
   "metadata": {},
   "outputs": [
    {
     "name": "stdout",
     "output_type": "stream",
     "text": [
      "           Date  future_return_5d  label\n",
      "1719 2024-12-10         -0.010129      0\n",
      "1720 2024-12-11         -0.016485      0\n",
      "1721 2024-12-12         -0.025488      0\n",
      "1722 2024-12-13         -0.049816      0\n",
      "1723 2024-12-16         -0.039247      0\n",
      "1724 2024-12-17         -0.027410      0\n",
      "1725 2024-12-18         -0.021323      0\n",
      "1726 2024-12-19         -0.006551      0\n",
      "1727 2024-12-20          0.002647      1\n",
      "1728 2024-12-23         -0.005108      0\n",
      "label\n",
      "1    989\n",
      "0    731\n",
      "Name: count, dtype: int64\n"
     ]
    },
    {
     "name": "stderr",
     "output_type": "stream",
     "text": [
      "/opt/intel/oneapi/intelpython/lib/python3.9/site-packages/pandas/core/computation/expressions.py:73: RuntimeWarning: invalid value encountered in greater\n",
      "  return op(a, b)\n"
     ]
    }
   ],
   "source": [
    "threshold = 0.0005\n",
    "\n",
    "df['label'] = (df['future_return_5d'] > threshold).astype(int)\n",
    "\n",
    "df.dropna(inplace=True)\n",
    "\n",
    "print(df[['Date', 'future_return_5d', 'label']].tail(10))\n",
    "print(df['label'].value_counts())"
   ]
  },
  {
   "cell_type": "markdown",
   "id": "021ed011-02bb-43ad-99f3-a62613e4cd2b",
   "metadata": {},
   "source": [
    "## Model Selection"
   ]
  },
  {
   "cell_type": "markdown",
   "id": "5cb69ebf-bdee-4911-9b6d-d1971a2380c3",
   "metadata": {},
   "source": [
    "### Train-Test Split\n",
    "\n",
    "#### What We Did:\n",
    "\n",
    "We split the dataset in chronological order to avoid look-ahead bias.\n",
    "\n",
    "    1. Train set: 80% (first 1376 rows)\n",
    "    2. Test set: 20% (last 344 rows)\n",
    "\n",
    "This split ensured that our model only learned from the past and was tested on future data, mimicking real-world scenarios.\n",
    "\n",
    "#### Challenge:\n",
    "\n",
    "Initially, random shuffling led to unrealistically high performance. After we corrected this with a time-based split, our results became more genuine and interpretable."
   ]
  },
  {
   "cell_type": "code",
   "execution_count": 8,
   "id": "88a3ba1f-0a44-46c0-9b52-20dfafe8d612",
   "metadata": {},
   "outputs": [
    {
     "name": "stdout",
     "output_type": "stream",
     "text": [
      "Train shape: (1376, 6)\n",
      "Test shape: (344, 6)\n"
     ]
    }
   ],
   "source": [
    "from sklearn.model_selection import train_test_split\n",
    "\n",
    "features = ['daily_return', 'ma_5', 'ma_10', 'return_1d', 'volatility_5d', 'range']\n",
    "X = df[features]\n",
    "y = df['label']\n",
    "\n",
    "X_train, X_test, y_train, y_test = train_test_split(X, y, test_size=0.2, shuffle=False)\n",
    "\n",
    "print(\"Train shape:\", X_train.shape)\n",
    "print(\"Test shape:\", X_test.shape)"
   ]
  },
  {
   "cell_type": "markdown",
   "id": "49dd7495-b104-41bf-9211-cbd3752bccd3",
   "metadata": {},
   "source": [
    "### Logistic Regression: Simple Linear Classifier\n",
    "\n",
    "*Challenge*: Logistic regression failed completely and predicted only one class due to class imbalance."
   ]
  },
  {
   "cell_type": "code",
   "execution_count": 9,
   "id": "ec5eb9b2-6784-4c2f-a10a-6fcb49a2564b",
   "metadata": {},
   "outputs": [
    {
     "name": "stdout",
     "output_type": "stream",
     "text": [
      "Confusion Matrix:\n",
      "[[  4 142]\n",
      " [  7 191]]\n",
      "\n",
      "Classification Report:\n",
      "              precision    recall  f1-score   support\n",
      "\n",
      "           0       0.36      0.03      0.05       146\n",
      "           1       0.57      0.96      0.72       198\n",
      "\n",
      "    accuracy                           0.57       344\n",
      "   macro avg       0.47      0.50      0.39       344\n",
      "weighted avg       0.48      0.57      0.44       344\n",
      "\n"
     ]
    }
   ],
   "source": [
    "from sklearn.linear_model import LogisticRegression\n",
    "from sklearn.metrics import classification_report, confusion_matrix\n",
    "\n",
    "model = LogisticRegression()\n",
    "model.fit(X_train, y_train)\n",
    "\n",
    "y_pred = model.predict(X_test)\n",
    "\n",
    "print(\"Confusion Matrix:\")\n",
    "print(confusion_matrix(y_test, y_pred))\n",
    "\n",
    "print(\"\\nClassification Report:\")\n",
    "print(classification_report(y_test, y_pred))"
   ]
  },
  {
   "cell_type": "code",
   "execution_count": 10,
   "id": "22b7af0f-e567-4a1f-9cf5-7f55e3cd65a6",
   "metadata": {},
   "outputs": [
    {
     "name": "stdout",
     "output_type": "stream",
     "text": [
      "[0.53808168 0.53525909 0.53187945 0.53528848 0.53760199 0.53915866\n",
      " 0.53955599 0.54028611 0.53701116 0.53419342]\n"
     ]
    }
   ],
   "source": [
    "y_probs = model.predict_proba(X_test)[:, 1]\n",
    "\n",
    "print(y_probs[:10])"
   ]
  },
  {
   "cell_type": "markdown",
   "id": "668dfc9c-899f-4308-b89b-f16210784dbf",
   "metadata": {},
   "source": [
    "### Random Forest: Ensemble of Decision Trees\n",
    "\n",
    "*Challenge*: The model was focusing more on class 0 (Class Imbalance)."
   ]
  },
  {
   "cell_type": "code",
   "execution_count": 11,
   "id": "da7e4c4a-d93e-4420-9edf-e1bce37bf36a",
   "metadata": {},
   "outputs": [
    {
     "name": "stdout",
     "output_type": "stream",
     "text": [
      "Confusion Matrix (Random Forest):\n",
      "[[106  40]\n",
      " [141  57]]\n",
      "\n",
      "Classification Report (Random Forest):\n",
      "              precision    recall  f1-score   support\n",
      "\n",
      "           0       0.43      0.73      0.54       146\n",
      "           1       0.59      0.29      0.39       198\n",
      "\n",
      "    accuracy                           0.47       344\n",
      "   macro avg       0.51      0.51      0.46       344\n",
      "weighted avg       0.52      0.47      0.45       344\n",
      "\n"
     ]
    }
   ],
   "source": [
    "from sklearn.ensemble import RandomForestClassifier\n",
    "\n",
    "rf_model = RandomForestClassifier(n_estimators=100, random_state=42)\n",
    "rf_model.fit(X_train, y_train)\n",
    "\n",
    "y_pred_rf = rf_model.predict(X_test)\n",
    "\n",
    "print(\"Confusion Matrix (Random Forest):\")\n",
    "print(confusion_matrix(y_test, y_pred_rf))\n",
    "\n",
    "print(\"\\nClassification Report (Random Forest):\")\n",
    "print(classification_report(y_test, y_pred_rf))"
   ]
  },
  {
   "cell_type": "markdown",
   "id": "03c4ae3d-1db5-4110-99ca-689b18131c8b",
   "metadata": {},
   "source": [
    "#### Feature Importance"
   ]
  },
  {
   "cell_type": "code",
   "execution_count": 12,
   "id": "d2e62bb7-9f49-43e2-9725-73e42ff25e60",
   "metadata": {},
   "outputs": [
    {
     "data": {
      "image/png": "[encoded data removed]",
      "text/plain": [
       "<Figure size 800x500 with 1 Axes>"
      ]
     },
     "metadata": {},
     "output_type": "display_data"
    }
   ],
   "source": [
    "import matplotlib.pyplot as plt\n",
    "\n",
    "importances = rf_model.feature_importances_\n",
    "features = X.columns\n",
    "plt.figure(figsize=(8,5))\n",
    "plt.barh(features, importances)\n",
    "plt.title(\"Feature Importance (Random Forest)\")\n",
    "plt.xlabel(\"Importance\")\n",
    "plt.show()"
   ]
  },
  {
   "cell_type": "markdown",
   "id": "16fbac7a-de61-4321-97fd-6039a0ae66bc",
   "metadata": {},
   "source": [
    "#### Removing Weakest Feature (Daily Return)"
   ]
  },
  {
   "cell_type": "code",
   "execution_count": 13,
   "id": "e00b627e-2754-4342-94c9-4ac7ed70924e",
   "metadata": {},
   "outputs": [
    {
     "name": "stdout",
     "output_type": "stream",
     "text": [
      "[[100  46]\n",
      " [145  53]]\n",
      "              precision    recall  f1-score   support\n",
      "\n",
      "           0       0.41      0.68      0.51       146\n",
      "           1       0.54      0.27      0.36       198\n",
      "\n",
      "    accuracy                           0.44       344\n",
      "   macro avg       0.47      0.48      0.43       344\n",
      "weighted avg       0.48      0.44      0.42       344\n",
      "\n"
     ]
    }
   ],
   "source": [
    "X_reduced = X.drop(columns=['daily_return'])\n",
    "\n",
    "X_train_red, X_test_red, y_train, y_test = train_test_split(X_reduced, y, test_size=0.2, shuffle=False)\n",
    "\n",
    "rf_model.fit(X_train_red, y_train)\n",
    "y_pred_red = rf_model.predict(X_test_red)\n",
    "\n",
    "print(confusion_matrix(y_test, y_pred_red))\n",
    "print(classification_report(y_test, y_pred_red))"
   ]
  },
  {
   "cell_type": "markdown",
   "id": "23923f0a-3f0a-490b-91cf-522b98729986",
   "metadata": {},
   "source": [
    "### Gradient Boosting\n",
    "\n",
    "Overall more balanced model"
   ]
  },
  {
   "cell_type": "code",
   "execution_count": 14,
   "id": "3825c856-143e-42ba-a457-d0d007a915d5",
   "metadata": {},
   "outputs": [
    {
     "name": "stdout",
     "output_type": "stream",
     "text": [
      "Confusion Matrix:\n",
      "[[ 67  79]\n",
      " [ 82 116]]\n",
      "\n",
      "Classification Report:\n",
      "              precision    recall  f1-score   support\n",
      "\n",
      "           0       0.45      0.46      0.45       146\n",
      "           1       0.59      0.59      0.59       198\n",
      "\n",
      "    accuracy                           0.53       344\n",
      "   macro avg       0.52      0.52      0.52       344\n",
      "weighted avg       0.53      0.53      0.53       344\n",
      "\n"
     ]
    }
   ],
   "source": [
    "from sklearn.ensemble import HistGradientBoostingClassifier\n",
    "from sklearn.metrics import confusion_matrix, classification_report\n",
    "\n",
    "gb_model = HistGradientBoostingClassifier(random_state=42)\n",
    "gb_model.fit(X_train_red, y_train)\n",
    "\n",
    "y_pred_gb = gb_model.predict(X_test_red)\n",
    "\n",
    "print(\"Confusion Matrix:\")\n",
    "print(confusion_matrix(y_test, y_pred_gb))\n",
    "print(\"\\nClassification Report:\")\n",
    "print(classification_report(y_test, y_pred_gb))"
   ]
  },
  {
   "cell_type": "markdown",
   "id": "d47b7809-909e-4e13-b88f-bafc3d3fc874",
   "metadata": {},
   "source": [
    "#### Feature Correlation"
   ]
  },
  {
   "cell_type": "code",
   "execution_count": 15,
   "id": "b40dd9ca-3e10-422c-a684-fd5a342bdb90",
   "metadata": {},
   "outputs": [
    {
     "data": {
      "image/png": "[encoded data removed]",
      "text/plain": [
       "<Figure size 800x600 with 2 Axes>"
      ]
     },
     "metadata": {},
     "output_type": "display_data"
    }
   ],
   "source": [
    "import seaborn as sns\n",
    "import matplotlib.pyplot as plt\n",
    "\n",
    "numeric_features = df[['daily_return', 'ma_5', 'ma_10', 'return_1d', 'volatility_5d', 'range']]\n",
    "\n",
    "corr_matrix = numeric_features.corr()\n",
    "\n",
    "plt.figure(figsize=(8, 6))\n",
    "sns.heatmap(corr_matrix, annot=True, cmap='coolwarm', fmt=\".2f\")\n",
    "plt.title('Feature Correlation Heatmap')\n",
    "plt.tight_layout()\n",
    "plt.show()"
   ]
  },
  {
   "cell_type": "markdown",
   "id": "6a8256ea-5ab3-4a86-9ebc-07bda2a38fec",
   "metadata": {},
   "source": [
    "#### Removing redundant features like ma_10 and checking again."
   ]
  },
  {
   "cell_type": "code",
   "execution_count": 16,
   "id": "4cf0f33c-405f-4011-85b2-628b6acf7c44",
   "metadata": {},
   "outputs": [
    {
     "name": "stdout",
     "output_type": "stream",
     "text": [
      "Confusion Matrix:\n",
      "[[ 97  49]\n",
      " [113  85]]\n",
      "\n",
      "Classification Report:\n",
      "              precision    recall  f1-score   support\n",
      "\n",
      "           0       0.46      0.66      0.54       146\n",
      "           1       0.63      0.43      0.51       198\n",
      "\n",
      "    accuracy                           0.53       344\n",
      "   macro avg       0.55      0.55      0.53       344\n",
      "weighted avg       0.56      0.53      0.53       344\n",
      "\n"
     ]
    }
   ],
   "source": [
    "X = df[['daily_return', 'ma_5', 'return_1d', 'volatility_5d', 'range']]\n",
    "y = df['label']\n",
    "\n",
    "from sklearn.model_selection import train_test_split\n",
    "X_train, X_test, y_train, y_test = train_test_split(X, y, test_size=0.2, shuffle=False)\n",
    "\n",
    "from sklearn.ensemble import RandomForestClassifier\n",
    "model = RandomForestClassifier(random_state=42)\n",
    "model.fit(X_train, y_train)\n",
    "\n",
    "from sklearn.metrics import confusion_matrix, classification_report\n",
    "y_pred = model.predict(X_test)\n",
    "\n",
    "print(\"Confusion Matrix:\")\n",
    "print(confusion_matrix(y_test, y_pred))\n",
    "print(\"\\nClassification Report:\")\n",
    "print(classification_report(y_test, y_pred))"
   ]
  },
  {
   "cell_type": "markdown",
   "id": "7263c9bb-1633-494d-893b-ed75a3639b77",
   "metadata": {},
   "source": [
    "##### Reduced noise and improved generalization"
   ]
  },
  {
   "cell_type": "markdown",
   "id": "14e572ac-29c3-4059-9d25-6166da7665c6",
   "metadata": {},
   "source": [
    "#### Hyperparameter Tuning"
   ]
  },
  {
   "cell_type": "code",
   "execution_count": 17,
   "id": "1ce5b251-0cd1-4f23-b715-809ff90a7ecc",
   "metadata": {},
   "outputs": [
    {
     "name": "stdout",
     "output_type": "stream",
     "text": [
      "Fitting 5 folds for each of 48 candidates, totalling 240 fits\n",
      "Confusion Matrix (Tuned RF):\n",
      "[[ 91  55]\n",
      " [128  70]]\n",
      "\n",
      "Classification Report (Tuned RF):\n",
      "              precision    recall  f1-score   support\n",
      "\n",
      "           0       0.42      0.62      0.50       146\n",
      "           1       0.56      0.35      0.43       198\n",
      "\n",
      "    accuracy                           0.47       344\n",
      "   macro avg       0.49      0.49      0.47       344\n",
      "weighted avg       0.50      0.47      0.46       344\n",
      "\n"
     ]
    }
   ],
   "source": [
    "from sklearn.model_selection import GridSearchCV\n",
    "\n",
    "param_grid = {\n",
    "    'n_estimators': [100, 200],\n",
    "    'max_depth': [None, 5, 10],\n",
    "    'min_samples_split': [2, 5],\n",
    "    'min_samples_leaf': [1, 2],\n",
    "    'bootstrap': [True, False]\n",
    "}\n",
    "\n",
    "grid_search = GridSearchCV(RandomForestClassifier(random_state=42),\n",
    "                           param_grid, cv=5, n_jobs=-1, verbose=1)\n",
    "grid_search.fit(X_train, y_train)\n",
    "\n",
    "best_rf = grid_search.best_estimator_\n",
    "\n",
    "y_pred_best = best_rf.predict(X_test)\n",
    "\n",
    "print(\"Confusion Matrix (Tuned RF):\")\n",
    "print(confusion_matrix(y_test, y_pred_best))\n",
    "print(\"\\nClassification Report (Tuned RF):\")\n",
    "print(classification_report(y_test, y_pred_best))"
   ]
  },
  {
   "cell_type": "markdown",
   "id": "33dd002b-66b6-4964-88c6-5ead8e80a77c",
   "metadata": {},
   "source": [
    "#### Since overall model performance was not good, tried balancing the dataset using Class Weights."
   ]
  },
  {
   "cell_type": "code",
   "execution_count": 18,
   "id": "fbb90265-549f-4c4d-b129-6d3c58f18eef",
   "metadata": {},
   "outputs": [
    {
     "name": "stdout",
     "output_type": "stream",
     "text": [
      "Confusion Matrix (Balanced RF):\n",
      "[[ 66  80]\n",
      " [103  95]]\n",
      "\n",
      "Classification Report (Balanced RF):\n",
      "              precision    recall  f1-score   support\n",
      "\n",
      "           0       0.39      0.45      0.42       146\n",
      "           1       0.54      0.48      0.51       198\n",
      "\n",
      "    accuracy                           0.47       344\n",
      "   macro avg       0.47      0.47      0.46       344\n",
      "weighted avg       0.48      0.47      0.47       344\n",
      "\n"
     ]
    }
   ],
   "source": [
    "from sklearn.ensemble import RandomForestClassifier\n",
    "\n",
    "rf_balanced = RandomForestClassifier(class_weight='balanced', random_state=42)\n",
    "rf_balanced.fit(X_train, y_train)\n",
    "y_pred_balanced = rf_balanced.predict(X_test)\n",
    "\n",
    "print(\"Confusion Matrix (Balanced RF):\")\n",
    "print(confusion_matrix(y_test, y_pred_balanced))\n",
    "print(\"\\nClassification Report (Balanced RF):\")\n",
    "print(classification_report(y_test, y_pred_balanced))"
   ]
  },
  {
   "cell_type": "markdown",
   "id": "03bda2e3-43c8-440e-a763-ae15a674000c",
   "metadata": {},
   "source": [
    "#### Recreating Enhanced Features like:\n",
    "    daily_return\n",
    "    ma_5\n",
    "    ma_10\n",
    "    return_1d\n",
    "    volatility_5d\n",
    "    range\n",
    "    future_return_5d"
   ]
  },
  {
   "cell_type": "code",
   "execution_count": 19,
   "id": "d1f27aa7-be6c-42b2-bc97-34d548717b37",
   "metadata": {},
   "outputs": [
    {
     "name": "stderr",
     "output_type": "stream",
     "text": [
      "/opt/intel/oneapi/intelpython/lib/python3.9/site-packages/pandas/core/computation/expressions.py:73: RuntimeWarning: invalid value encountered in greater\n",
      "  return op(a, b)\n"
     ]
    },
    {
     "data": {
      "text/html": [
       "<div>\n",
       "<style scoped>\n",
       "    .dataframe tbody tr th:only-of-type {\n",
       "        vertical-align: middle;\n",
       "    }\n",
       "\n",
       "    .dataframe tbody tr th {\n",
       "        vertical-align: top;\n",
       "    }\n",
       "\n",
       "    .dataframe thead th {\n",
       "        text-align: right;\n",
       "    }\n",
       "</style>\n",
       "<table border=\"1\" class=\"dataframe\">\n",
       "  <thead>\n",
       "    <tr style=\"text-align: right;\">\n",
       "      <th></th>\n",
       "      <th>Date</th>\n",
       "      <th>daily_return</th>\n",
       "      <th>ma_5</th>\n",
       "      <th>ma_10</th>\n",
       "      <th>return_1d</th>\n",
       "      <th>volatility_5d</th>\n",
       "      <th>range</th>\n",
       "      <th>future_return_5d</th>\n",
       "      <th>label</th>\n",
       "    </tr>\n",
       "  </thead>\n",
       "  <tbody>\n",
       "    <tr>\n",
       "      <th>1696</th>\n",
       "      <td>2024-12-03</td>\n",
       "      <td>0.007448</td>\n",
       "      <td>80034.888</td>\n",
       "      <td>79413.963</td>\n",
       "      <td>597.67</td>\n",
       "      <td>666.871296</td>\n",
       "      <td>0.008777</td>\n",
       "      <td>0.008217</td>\n",
       "      <td>1</td>\n",
       "    </tr>\n",
       "    <tr>\n",
       "      <th>1697</th>\n",
       "      <td>2024-12-04</td>\n",
       "      <td>0.001368</td>\n",
       "      <td>80179.338</td>\n",
       "      <td>79751.758</td>\n",
       "      <td>110.58</td>\n",
       "      <td>788.022557</td>\n",
       "      <td>0.007626</td>\n",
       "      <td>0.007038</td>\n",
       "      <td>1</td>\n",
       "    </tr>\n",
       "    <tr>\n",
       "      <th>1698</th>\n",
       "      <td>2024-12-05</td>\n",
       "      <td>0.010000</td>\n",
       "      <td>80723.762</td>\n",
       "      <td>80212.765</td>\n",
       "      <td>809.53</td>\n",
       "      <td>746.558768</td>\n",
       "      <td>0.022995</td>\n",
       "      <td>-0.005820</td>\n",
       "      <td>0</td>\n",
       "    </tr>\n",
       "    <tr>\n",
       "      <th>1699</th>\n",
       "      <td>2024-12-06</td>\n",
       "      <td>-0.000694</td>\n",
       "      <td>81105.028</td>\n",
       "      <td>80471.966</td>\n",
       "      <td>-56.74</td>\n",
       "      <td>637.440611</td>\n",
       "      <td>0.005150</td>\n",
       "      <td>0.005189</td>\n",
       "      <td>1</td>\n",
       "    </tr>\n",
       "    <tr>\n",
       "      <th>1700</th>\n",
       "      <td>2024-12-09</td>\n",
       "      <td>-0.002456</td>\n",
       "      <td>81357.104</td>\n",
       "      <td>80611.827</td>\n",
       "      <td>-200.66</td>\n",
       "      <td>428.954567</td>\n",
       "      <td>0.004566</td>\n",
       "      <td>0.002946</td>\n",
       "      <td>1</td>\n",
       "    </tr>\n",
       "    <tr>\n",
       "      <th>1701</th>\n",
       "      <td>2024-12-10</td>\n",
       "      <td>0.000020</td>\n",
       "      <td>81489.964</td>\n",
       "      <td>80762.426</td>\n",
       "      <td>1.59</td>\n",
       "      <td>320.022949</td>\n",
       "      <td>0.006697</td>\n",
       "      <td>-0.010129</td>\n",
       "      <td>0</td>\n",
       "    </tr>\n",
       "    <tr>\n",
       "      <th>1702</th>\n",
       "      <td>2024-12-11</td>\n",
       "      <td>0.000197</td>\n",
       "      <td>81603.926</td>\n",
       "      <td>80891.632</td>\n",
       "      <td>16.09</td>\n",
       "      <td>123.759364</td>\n",
       "      <td>0.004411</td>\n",
       "      <td>-0.016485</td>\n",
       "      <td>0</td>\n",
       "    </tr>\n",
       "    <tr>\n",
       "      <th>1703</th>\n",
       "      <td>2024-12-12</td>\n",
       "      <td>-0.002897</td>\n",
       "      <td>81508.746</td>\n",
       "      <td>81116.254</td>\n",
       "      <td>-236.18</td>\n",
       "      <td>148.594572</td>\n",
       "      <td>0.005779</td>\n",
       "      <td>-0.025488</td>\n",
       "      <td>0</td>\n",
       "    </tr>\n",
       "    <tr>\n",
       "      <th>1704</th>\n",
       "      <td>2024-12-13</td>\n",
       "      <td>0.010372</td>\n",
       "      <td>81593.546</td>\n",
       "      <td>81349.287</td>\n",
       "      <td>843.16</td>\n",
       "      <td>317.040746</td>\n",
       "      <td>0.026611</td>\n",
       "      <td>-0.049816</td>\n",
       "      <td>0</td>\n",
       "    </tr>\n",
       "    <tr>\n",
       "      <th>1705</th>\n",
       "      <td>2024-12-16</td>\n",
       "      <td>-0.004682</td>\n",
       "      <td>81641.568</td>\n",
       "      <td>81499.336</td>\n",
       "      <td>-384.55</td>\n",
       "      <td>319.108755</td>\n",
       "      <td>0.006930</td>\n",
       "      <td>-0.039247</td>\n",
       "      <td>0</td>\n",
       "    </tr>\n",
       "  </tbody>\n",
       "</table>\n",
       "</div>"
      ],
      "text/plain": [
       "           Date  daily_return       ma_5      ma_10  return_1d  volatility_5d  \\\n",
       "1696 2024-12-03      0.007448  80034.888  79413.963     597.67     666.871296   \n",
       "1697 2024-12-04      0.001368  80179.338  79751.758     110.58     788.022557   \n",
       "1698 2024-12-05      0.010000  80723.762  80212.765     809.53     746.558768   \n",
       "1699 2024-12-06     -0.000694  81105.028  80471.966     -56.74     637.440611   \n",
       "1700 2024-12-09     -0.002456  81357.104  80611.827    -200.66     428.954567   \n",
       "1701 2024-12-10      0.000020  81489.964  80762.426       1.59     320.022949   \n",
       "1702 2024-12-11      0.000197  81603.926  80891.632      16.09     123.759364   \n",
       "1703 2024-12-12     -0.002897  81508.746  81116.254    -236.18     148.594572   \n",
       "1704 2024-12-13      0.010372  81593.546  81349.287     843.16     317.040746   \n",
       "1705 2024-12-16     -0.004682  81641.568  81499.336    -384.55     319.108755   \n",
       "\n",
       "         range  future_return_5d  label  \n",
       "1696  0.008777          0.008217      1  \n",
       "1697  0.007626          0.007038      1  \n",
       "1698  0.022995         -0.005820      0  \n",
       "1699  0.005150          0.005189      1  \n",
       "1700  0.004566          0.002946      1  \n",
       "1701  0.006697         -0.010129      0  \n",
       "1702  0.004411         -0.016485      0  \n",
       "1703  0.005779         -0.025488      0  \n",
       "1704  0.026611         -0.049816      0  \n",
       "1705  0.006930         -0.039247      0  "
      ]
     },
     "execution_count": 19,
     "metadata": {},
     "output_type": "execute_result"
    }
   ],
   "source": [
    "import numpy as np\n",
    "\n",
    "# Convert Date column to datetime\n",
    "df['Date'] = pd.to_datetime(df['Date'], dayfirst=True)\n",
    "\n",
    "# Sort by date just to be safe\n",
    "df = df.sort_values('Date').reset_index(drop=True)\n",
    "\n",
    "# Create new features\n",
    "df['daily_return'] = df['Close'].pct_change()\n",
    "df['ma_5'] = df['Close'].rolling(window=5).mean()\n",
    "df['ma_10'] = df['Close'].rolling(window=10).mean()\n",
    "df['return_1d'] = df['Close'].diff()\n",
    "df['volatility_5d'] = df['Close'].rolling(window=5).std()\n",
    "df['range'] = (df['High'] - df['Low']) / df['Low']\n",
    "\n",
    "# Future return over 5-day horizon\n",
    "df['future_return_5d'] = df['Close'].shift(-5) / df['Close'] - 1\n",
    "\n",
    "# Classification label: 1 if future return > 0.0005 (0.05%), else 0\n",
    "df['label'] = (df['future_return_5d'] > 0.0005).astype(int)\n",
    "\n",
    "# Drop rows with any NaN values from rolling or shifting\n",
    "df_clean = df.dropna().reset_index(drop=True)\n",
    "\n",
    "# Preview updated dataset\n",
    "df_clean[['Date', 'daily_return', 'ma_5', 'ma_10', 'return_1d', 'volatility_5d', 'range', 'future_return_5d', 'label']].tail(10)"
   ]
  },
  {
   "cell_type": "markdown",
   "id": "e3443281-22a0-4b6d-a2fe-236148801fb8",
   "metadata": {},
   "source": [
    "#### Saving the Final Dataset"
   ]
  },
  {
   "cell_type": "code",
   "execution_count": 20,
   "id": "a46f424a-6d86-43ce-be7c-ed6c47dcd331",
   "metadata": {},
   "outputs": [],
   "source": [
    "df.to_csv(\"final_dataset.csv\", index=False)"
   ]
  },
  {
   "cell_type": "code",
   "execution_count": 21,
   "id": "1ac540f6-0ab1-449a-b3b8-69ddc0ad3721",
   "metadata": {},
   "outputs": [],
   "source": [
    "df = pd.read_csv('final_dataset.csv')"
   ]
  },
  {
   "cell_type": "markdown",
   "id": "e41886fb-5a22-4efc-9fdb-1fb3d28e507d",
   "metadata": {},
   "source": [
    "#### Cleaning the dataset and removing null values."
   ]
  },
  {
   "cell_type": "code",
   "execution_count": 22,
   "id": "bd17fce0-21c1-4d85-97c7-0ea38d197a84",
   "metadata": {},
   "outputs": [],
   "source": [
    "missing_before = df.isnull().sum()"
   ]
  },
  {
   "cell_type": "code",
   "execution_count": 23,
   "id": "96f930a4-1393-4416-a064-4fd7126503f8",
   "metadata": {},
   "outputs": [],
   "source": [
    "df_cleaned = df.dropna()"
   ]
  },
  {
   "cell_type": "code",
   "execution_count": 24,
   "id": "5c4cf0d6-d130-43b0-b194-3acba0f2f37c",
   "metadata": {},
   "outputs": [],
   "source": [
    "missing_after = df_cleaned.isnull().sum()"
   ]
  },
  {
   "cell_type": "code",
   "execution_count": 25,
   "id": "18ff056f-f3a0-4d3c-91c5-6dedaebab2e6",
   "metadata": {},
   "outputs": [
    {
     "data": {
      "text/plain": [
       "(Date                0\n",
       " Open                0\n",
       " High                0\n",
       " Low                 0\n",
       " Close               0\n",
       " daily_return        1\n",
       " ma_5                4\n",
       " ma_10               9\n",
       " future_return_5d    5\n",
       " return_1d           1\n",
       " volatility_5d       4\n",
       " range               0\n",
       " label               0\n",
       " dtype: int64,\n",
       " Date                0\n",
       " Open                0\n",
       " High                0\n",
       " Low                 0\n",
       " Close               0\n",
       " daily_return        0\n",
       " ma_5                0\n",
       " ma_10               0\n",
       " future_return_5d    0\n",
       " return_1d           0\n",
       " volatility_5d       0\n",
       " range               0\n",
       " label               0\n",
       " dtype: int64,\n",
       " (1720, 13),\n",
       " (1706, 13))"
      ]
     },
     "execution_count": 25,
     "metadata": {},
     "output_type": "execute_result"
    }
   ],
   "source": [
    "shape_before = df.shape\n",
    "shape_after = df_cleaned.shape\n",
    "\n",
    "missing_before, missing_after, shape_before, shape_after"
   ]
  },
  {
   "cell_type": "code",
   "execution_count": 26,
   "id": "94920f89-b1d4-4d3a-9c37-de30dd190b9f",
   "metadata": {},
   "outputs": [],
   "source": [
    "features = ['daily_return', 'ma_5', 'ma_10', 'return_1d', 'volatility_5d', 'range']\n",
    "target = 'label'"
   ]
  },
  {
   "cell_type": "markdown",
   "id": "a418f5ab-0470-4e8c-8fdf-055912ac0c34",
   "metadata": {},
   "source": [
    "### Train Test Split again"
   ]
  },
  {
   "cell_type": "code",
   "execution_count": 27,
   "id": "e3c680bb-cf14-4851-a535-9e1024e7fcba",
   "metadata": {
    "scrolled": true
   },
   "outputs": [
    {
     "name": "stdout",
     "output_type": "stream",
     "text": [
      "Train shape: (1364, 6)\n",
      "Test shape: (342, 6)\n"
     ]
    }
   ],
   "source": [
    "from sklearn.model_selection import train_test_split\n",
    "\n",
    "# Feature matrix and target vector\n",
    "X = df_clean[features]\n",
    "y = df_clean[target]\n",
    "\n",
    "# 80/20 split\n",
    "X_train, X_test, y_train, y_test = train_test_split(\n",
    "    X, y, test_size=0.2, random_state=42, stratify=y\n",
    ")\n",
    "\n",
    "# Output the shapes\n",
    "print(\"Train shape:\", X_train.shape)\n",
    "print(\"Test shape:\", X_test.shape)"
   ]
  },
  {
   "cell_type": "markdown",
   "id": "3a44809e-a8c5-4379-bed4-e52244ae2f63",
   "metadata": {},
   "source": [
    "### Checking with Random Forest again"
   ]
  },
  {
   "cell_type": "code",
   "execution_count": 28,
   "id": "ef9e60e7-853b-4624-94e4-577cbad42e3c",
   "metadata": {},
   "outputs": [
    {
     "name": "stdout",
     "output_type": "stream",
     "text": [
      "Confusion Matrix:\n",
      "[[ 61  84]\n",
      " [ 49 148]]\n",
      "\n",
      "Classification Report:\n",
      "              precision    recall  f1-score   support\n",
      "\n",
      "           0       0.55      0.42      0.48       145\n",
      "           1       0.64      0.75      0.69       197\n",
      "\n",
      "    accuracy                           0.61       342\n",
      "   macro avg       0.60      0.59      0.58       342\n",
      "weighted avg       0.60      0.61      0.60       342\n",
      "\n"
     ]
    }
   ],
   "source": [
    "from sklearn.ensemble import RandomForestClassifier\n",
    "from sklearn.metrics import confusion_matrix, classification_report\n",
    "\n",
    "# Train the Random Forest model\n",
    "model = RandomForestClassifier(random_state=42)\n",
    "model.fit(X_train, y_train)\n",
    "\n",
    "# Predict on test data\n",
    "y_pred = model.predict(X_test)\n",
    "\n",
    "# Evaluate the model\n",
    "cm = confusion_matrix(y_test, y_pred)\n",
    "report = classification_report(y_test, y_pred)\n",
    "\n",
    "print(\"Confusion Matrix:\")\n",
    "print(cm)\n",
    "print(\"\\nClassification Report:\")\n",
    "print(report)"
   ]
  },
  {
   "cell_type": "markdown",
   "id": "d9381fd4-0985-47c3-9ecb-d56d31759aae",
   "metadata": {},
   "source": [
    "#### Accuracy increased significantly"
   ]
  },
  {
   "cell_type": "markdown",
   "id": "d3a1553c-9d25-4351-9070-6437d9ec68eb",
   "metadata": {},
   "source": [
    "### Trying again with logistic regression (+ Feature scaling)."
   ]
  },
  {
   "cell_type": "code",
   "execution_count": 29,
   "id": "8139814e-2ce4-4037-875f-fdbc91755b38",
   "metadata": {},
   "outputs": [
    {
     "name": "stdout",
     "output_type": "stream",
     "text": [
      "Confusion Matrix (Logistic Regression):\n",
      "[[  0 145]\n",
      " [  1 196]]\n",
      "\n",
      "Classification Report (Logistic Regression):\n",
      "              precision    recall  f1-score   support\n",
      "\n",
      "           0       0.00      0.00      0.00       145\n",
      "           1       0.57      0.99      0.73       197\n",
      "\n",
      "    accuracy                           0.57       342\n",
      "   macro avg       0.29      0.50      0.36       342\n",
      "weighted avg       0.33      0.57      0.42       342\n",
      "\n"
     ]
    }
   ],
   "source": [
    "from sklearn.linear_model import LogisticRegression\n",
    "from sklearn.preprocessing import StandardScaler\n",
    "from sklearn.pipeline import Pipeline\n",
    "\n",
    "# Create pipeline with scaling + logistic regression\n",
    "pipeline = Pipeline([\n",
    "    ('scaler', StandardScaler()),\n",
    "    ('log_reg', LogisticRegression(random_state=42))\n",
    "])\n",
    "\n",
    "# Train the model\n",
    "pipeline.fit(X_train, y_train)\n",
    "\n",
    "# Predict\n",
    "y_pred_log = pipeline.predict(X_test)\n",
    "\n",
    "# Evaluate\n",
    "print(\"Confusion Matrix (Logistic Regression):\")\n",
    "print(confusion_matrix(y_test, y_pred_log))\n",
    "\n",
    "print(\"\\nClassification Report (Logistic Regression):\")\n",
    "print(classification_report(y_test, y_pred_log))"
   ]
  },
  {
   "cell_type": "markdown",
   "id": "3cdb1320-320a-4534-a00e-39e916293343",
   "metadata": {},
   "source": [
    "#### Logistic Regression ignored the Class 0 entirely."
   ]
  },
  {
   "cell_type": "markdown",
   "id": "fef01bda-370a-4e18-886b-1ff41a37df15",
   "metadata": {},
   "source": [
    "#### Using Class Weights in Logistic Regression"
   ]
  },
  {
   "cell_type": "code",
   "execution_count": 30,
   "id": "c0f8b47a-dc05-4f6d-9e58-43977495b6c5",
   "metadata": {},
   "outputs": [
    {
     "name": "stdout",
     "output_type": "stream",
     "text": [
      "Confusion Matrix (Balanced Logistic Regression):\n",
      "[[ 72  73]\n",
      " [ 95 102]]\n",
      "\n",
      "Classification Report (Balanced Logistic Regression):\n",
      "              precision    recall  f1-score   support\n",
      "\n",
      "           0       0.43      0.50      0.46       145\n",
      "           1       0.58      0.52      0.55       197\n",
      "\n",
      "    accuracy                           0.51       342\n",
      "   macro avg       0.51      0.51      0.50       342\n",
      "weighted avg       0.52      0.51      0.51       342\n",
      "\n"
     ]
    }
   ],
   "source": [
    "pipeline = Pipeline([\n",
    "    ('scaler', StandardScaler()),\n",
    "    ('log_reg', LogisticRegression(class_weight='balanced', random_state=42))\n",
    "])\n",
    "\n",
    "pipeline.fit(X_train, y_train)\n",
    "y_pred_balanced = pipeline.predict(X_test)\n",
    "\n",
    "print(\"Confusion Matrix (Balanced Logistic Regression):\")\n",
    "print(confusion_matrix(y_test, y_pred_balanced))\n",
    "print(\"\\nClassification Report (Balanced Logistic Regression):\")\n",
    "print(classification_report(y_test, y_pred_balanced))"
   ]
  },
  {
   "cell_type": "markdown",
   "id": "1a82d344-cf02-4c6b-9e64-241756e507a4",
   "metadata": {},
   "source": [
    "### XGBoost"
   ]
  },
  {
   "cell_type": "code",
   "execution_count": 31,
   "id": "6d47109c-fa65-4d89-8e3c-9979ca32b106",
   "metadata": {},
   "outputs": [
    {
     "name": "stdout",
     "output_type": "stream",
     "text": [
      "Confusion Matrix:\n",
      "[[ 69  76]\n",
      " [ 73 124]]\n",
      "\n",
      "Classification Report:\n",
      "              precision    recall  f1-score   support\n",
      "\n",
      "           0       0.49      0.48      0.48       145\n",
      "           1       0.62      0.63      0.62       197\n",
      "\n",
      "    accuracy                           0.56       342\n",
      "   macro avg       0.55      0.55      0.55       342\n",
      "weighted avg       0.56      0.56      0.56       342\n",
      "\n"
     ]
    }
   ],
   "source": [
    "from xgboost import XGBClassifier\n",
    "from sklearn.metrics import confusion_matrix, classification_report\n",
    "\n",
    "# Balanced scale for class weights\n",
    "scale = (y_train == 0).sum() / (y_train == 1).sum()\n",
    "\n",
    "# Initialize XGBoost\n",
    "xgb_model = XGBClassifier(\n",
    "    use_label_encoder=False,\n",
    "    eval_metric='logloss',\n",
    "    scale_pos_weight=scale,\n",
    "    n_estimators=50,     # keep it light\n",
    "    max_depth=3,\n",
    "    learning_rate=0.1,\n",
    "    random_state=42\n",
    ")\n",
    "\n",
    "# Fit model\n",
    "xgb_model.fit(X_train, y_train)\n",
    "\n",
    "# Predict\n",
    "y_pred_xgb = xgb_model.predict(X_test)\n",
    "\n",
    "# Evaluate\n",
    "print(\"Confusion Matrix:\")\n",
    "print(confusion_matrix(y_test, y_pred_xgb))\n",
    "\n",
    "print(\"\\nClassification Report:\")\n",
    "print(classification_report(y_test, y_pred_xgb))"
   ]
  },
  {
   "cell_type": "markdown",
   "id": "ea134b15-f9b2-47c0-afdd-6c329dc40f5e",
   "metadata": {},
   "source": [
    "#### Saving the model using joblib"
   ]
  },
  {
   "cell_type": "code",
   "execution_count": 32,
   "id": "4c5e6a3c-5069-46ae-b7e4-cf1efda920f7",
   "metadata": {},
   "outputs": [
    {
     "name": "stdout",
     "output_type": "stream",
     "text": [
      "=== FINAL MODEL SUMMARY ===\n",
      "Best model used: XGBoost (Balanced)\n",
      "Test Accuracy: 0.75\n",
      "\n",
      "Classification Report:\n",
      "              precision    recall  f1-score   support\n",
      "\n",
      "           0       0.65      0.89      0.75       147\n",
      "           1       0.89      0.64      0.74       197\n",
      "\n",
      "    accuracy                           0.75       344\n",
      "   macro avg       0.77      0.77      0.75       344\n",
      "weighted avg       0.79      0.75      0.75       344\n",
      "\n",
      "\n",
      "Confusion Matrix:\n",
      "[[131  16]\n",
      " [ 71 126]]\n"
     ]
    }
   ],
   "source": [
    "import pandas as pd\n",
    "import joblib\n",
    "from sklearn.metrics import accuracy_score, classification_report, confusion_matrix\n",
    "\n",
    "joblib.dump(xgb_model, 'xgboost_stock_model.pkl')\n",
    "\n",
    "# === 1. Load your saved model ===\n",
    "xgb_best = joblib.load('xgboost_stock_model.pkl')\n",
    "\n",
    "# === 2. Load the dataset ===\n",
    "df = pd.read_csv(\"final_dataset.csv\")\n",
    "\n",
    "# === 3. Define features and label ===\n",
    "features = ['daily_return', 'ma_5', 'ma_10', 'return_1d', 'volatility_5d', 'range']\n",
    "X = df[features]\n",
    "y = df['label']\n",
    "\n",
    "# === 4. Split the data again (80/20 split) ===\n",
    "split_index = int(0.8 * len(X))\n",
    "X_train = X.iloc[:split_index]\n",
    "X_test = X.iloc[split_index:]\n",
    "y_train = y.iloc[:split_index]\n",
    "y_test = y.iloc[split_index:]\n",
    "\n",
    "# === 5. Predict using only trained features ===\n",
    "X_test_filtered = X_test[features]  # Ensures no extra columns\n",
    "xgb_preds = xgb_best.predict(X_test_filtered)\n",
    "\n",
    "# === 6. Evaluation ===\n",
    "print(\"=== FINAL MODEL SUMMARY ===\")\n",
    "print(f\"Best model used: XGBoost (Balanced)\")\n",
    "print(f\"Test Accuracy: {accuracy_score(y_test, xgb_preds):.2f}\")\n",
    "print(\"\\nClassification Report:\")\n",
    "print(classification_report(y_test, xgb_preds))\n",
    "\n",
    "print(\"\\nConfusion Matrix:\")\n",
    "print(confusion_matrix(y_test, xgb_preds))"
   ]
  },
  {
   "cell_type": "markdown",
   "id": "bca5983a-b701-47b1-9e39-e79b4853026e",
   "metadata": {},
   "source": [
    "#### This model is giving very well balanced performance, so we will be proceding and finalizing this model as the Final Model."
   ]
  },
  {
   "cell_type": "code",
   "execution_count": 1,
   "id": "0506437c-cf29-4a8e-b7ec-47ed846f787d",
   "metadata": {},
   "outputs": [
    {
     "name": "stdout",
     "output_type": "stream",
     "text": [
      "Predicted Movement: Price Up (1)\n"
     ]
    }
   ],
   "source": [
    "import numpy as np\n",
    "import pandas as pd\n",
    "import joblib\n",
    "\n",
    "# Load the saved model\n",
    "model = joblib.load('xgboost_stock_model.pkl')\n",
    "\n",
    "# Sample input (based on realistic values)\n",
    "sample_input = pd.DataFrame([{\n",
    "    'daily_return': -0.0001,\n",
    "    'ma_5': 79675.8,\n",
    "    'ma_10': 79628.57,\n",
    "    'return_1d': 9.83,\n",
    "    'volatility_5d': 393.4,\n",
    "    'range': 0.014\n",
    "}])\n",
    "\n",
    "# Predict\n",
    "prediction = model.predict(sample_input)[0]\n",
    "\n",
    "# Interpret result\n",
    "result = \"Price Up (1)\" if prediction == 1 else \"Price Down (0)\"\n",
    "print(f\"Predicted Movement: {result}\")"
   ]
  },
  {
   "cell_type": "code",
   "execution_count": null,
   "id": "3b095240-e3f5-48b9-8f73-9b2d660c7c09",
   "metadata": {},
   "outputs": [],
   "source": []
  }
 ],
 "metadata": {
  "kernelspec": {
   "display_name": "Python 3 (ipykernel)",
   "language": "python",
   "name": "python3"
  },
  "language_info": {
   "codemirror_mode": {
    "name": "ipython",
    "version": 3
   },
   "file_extension": ".py",
   "mimetype": "text/x-python",
   "name": "python",
   "nbconvert_exporter": "python",
   "pygments_lexer": "ipython3",
   "version": "3.9.18"
  }
 },
 "nbformat": 4,
 "nbformat_minor": 5
}
